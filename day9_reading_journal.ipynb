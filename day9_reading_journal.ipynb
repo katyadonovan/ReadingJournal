{
 "cells": [
  {
   "cell_type": "markdown",
   "metadata": {
    "deletable": true,
    "editable": true
   },
   "source": [
    "# Day 9 Reading Journal\n",
    "\n",
    "This journal includes several required exercises, but it is meant to encourage active reading more generally.  You should use the journal to take detailed notes, catalog questions, and explore the content from Think Python deeply.\n",
    "\n",
    "Reading: Think Python Chapter 16, 17\n",
    "\n",
    "**Due: Wednesday, February 22 at 12 noon**\n",
    "\n"
   ]
  },
  {
   "cell_type": "markdown",
   "metadata": {
    "deletable": true,
    "editable": true
   },
   "source": [
    "## [Chapter 16](http://www.greenteapress.com/thinkpython2/html/thinkpython2017.html)\n"
   ]
  },
  {
   "cell_type": "markdown",
   "metadata": {
    "deletable": true,
    "editable": true,
    "is_question": true,
    "problem": "Exercise 16.2"
   },
   "source": [
    "### Chapter 16.1\n",
    "\n",
    "Write a boolean function called `is_after` that takes two `Time` objects, `t1` and `t2`, and returns `True` if `t1` follows `t2` chronologically and `False` otherwise. Challenge: don’t use an `if` statement. "
   ]
  },
  {
   "cell_type": "code",
   "execution_count": 3,
   "metadata": {
    "collapsed": false,
    "deletable": true,
    "editable": true,
    "solution": "Exercise 16.2"
   },
   "outputs": [
    {
     "data": {
      "text/plain": [
       "True"
      ]
     },
     "execution_count": 3,
     "metadata": {},
     "output_type": "execute_result"
    }
   ],
   "source": [
    "class Time:\n",
    "    \"\"\"Represents the time of day: hour,minute,second\"\"\"\n",
    "    \n",
    "t1 = Time()\n",
    "t1.hour = 10\n",
    "t1.minute = 11\n",
    "t1.second = 12\n",
    "\n",
    "t2 = Time()\n",
    "t2.hour = 9\n",
    "t2.minute = 10\n",
    "t2.second = 10\n",
    "\n",
    "def is_after(t1,t2):\n",
    "    if t1.hour < t2.hour:\n",
    "        return False\n",
    "    elif t2.hour <t1.hour:\n",
    "        return True\n",
    "    else:\n",
    "        if t1.minute < t2.minute:\n",
    "            return False\n",
    "        elif t2.minute < t1.minute:\n",
    "            return True\n",
    "        else: \n",
    "            if t1.second < t2.second:\n",
    "                return False\n",
    "            elif t1.second > t2.second:\n",
    "                return True\n",
    "            else:\n",
    "                return False\n",
    "\n",
    "\n",
    "is_after(t1,t2)\n",
    "    \n"
   ]
  },
  {
   "cell_type": "markdown",
   "metadata": {
    "deletable": true,
    "editable": true
   },
   "source": [
    "## [Chapter 17](http://www.greenteapress.com/thinkpython2/html/thinkpython2018.html)\n",
    "\n",
    "In chapter 17 we finally have the tools to really put user-defined classes to work! In the exercises for this reading journal, we'll go back and add methods to your `Point` class from Chapter 15 to make it a lot easier to use."
   ]
  },
  {
   "cell_type": "markdown",
   "metadata": {
    "deletable": true,
    "editable": true,
    "is_question": true,
    "problem": "Exercise 17.2"
   },
   "source": [
    "### Chapter 17.5\n",
    "\n",
    "Write an init method for the `Point` class that takes `x` and `y` as optional parameters and assigns them to the corresponding attributes. "
   ]
  },
  {
   "cell_type": "code",
   "execution_count": 16,
   "metadata": {
    "collapsed": false,
    "deletable": true,
    "editable": true,
    "solution": "Exercise 17.2"
   },
   "outputs": [
    {
     "name": "stdout",
     "output_type": "stream",
     "text": [
      "00:00:\n",
      "01:00:\n",
      "02:04:\n"
     ]
    }
   ],
   "source": [
    "class Point:\n",
    "    \"x and y\"\n",
    "    x =0\n",
    "    y=0\n",
    "    def __init__(self,x=0,y=0):\n",
    "        self.x = x\n",
    "        self.y = y\n",
    "\n",
    "def print_point(self):\n",
    "    print('%.2d:%.2d:' % (self.x, self.y))\n",
    "\n",
    "\n",
    "\n",
    "point1= Point()\n",
    "print_point(point1)\n",
    "\n",
    "point1 = Point(1)\n",
    "print_point(point1)\n",
    "\n",
    "point1 = Point(2,4)\n",
    "print_point(point1)"
   ]
  },
  {
   "cell_type": "markdown",
   "metadata": {
    "deletable": true,
    "editable": true,
    "is_question": true,
    "problem": "Exercise 17.3"
   },
   "source": [
    "### Chapter 17.6 \n",
    "\n",
    "Write a str method for the `Point` class. Create a `Point` object and print it."
   ]
  },
  {
   "cell_type": "code",
   "execution_count": 24,
   "metadata": {
    "collapsed": false,
    "deletable": true,
    "editable": true,
    "solution": "Exercise 17.3"
   },
   "outputs": [
    {
     "name": "stdout",
     "output_type": "stream",
     "text": [
      "01:03:\n"
     ]
    }
   ],
   "source": [
    "class Point:\n",
    "    \"x and y\"\n",
    "    x = 0\n",
    "    y = 0\n",
    "    def __str__(self):\n",
    "        return '%.2d:%.2d:' % (self.x, self.y)\n",
    "\n",
    "point1=Point()\n",
    "point1.x =1\n",
    "point1.y =3\n",
    "print(point1)\n"
   ]
  },
  {
   "cell_type": "markdown",
   "metadata": {
    "deletable": true,
    "editable": true,
    "is_question": true,
    "problem": "Exercise 17.4"
   },
   "source": [
    "### Chapter 17.7  \n",
    "\n",
    "Write an add method for the `Point` class. Optional: implement operator overloading so that you can use the '+' operator."
   ]
  },
  {
   "cell_type": "code",
   "execution_count": 26,
   "metadata": {
    "collapsed": false,
    "deletable": true,
    "editable": true,
    "solution": "Exercise 17.4"
   },
   "outputs": [
    {
     "name": "stdout",
     "output_type": "stream",
     "text": [
      "(4, 7)\n"
     ]
    }
   ],
   "source": [
    "class Point:\n",
    "    \"x and y\"\n",
    "    x =0\n",
    "    y=0\n",
    "    def __init__(self,x=0,y=0):\n",
    "        self.x = x\n",
    "        self.y = y\n",
    "    def __add__(self,other):\n",
    "        x =self.x+other.x\n",
    "        y = self.y + other.y\n",
    "        return x,y\n",
    "\n",
    "def print_point(self):\n",
    "    print('%.2d:%.2d:' % (self.x, self.y))\n",
    "\n",
    "\n",
    "\n",
    "start = Point(2,3)\n",
    "duration = Point(2,4)\n",
    "print(start +duration)"
   ]
  },
  {
   "cell_type": "markdown",
   "metadata": {
    "deletable": true,
    "editable": true,
    "is_question": true,
    "problem": "Exercise 17.7"
   },
   "source": [
    "### Exercise 17.2\n",
    "\n",
    "This exercise is a cautionary tale about one of the most common, and difficult to find, errors in Python. Write a definition for a class named `Kangaroo` with the following methods:\n",
    "\n",
    " 1. An `__init__` method that initializes an attribute named `pouch_contents` to an empty list.\n",
    " 2. A method named `put_in_pouch` that takes an object of any type and adds it to `pouch_contents`.\n",
    " 3. A `__str__` method that returns a string representation of the `Kangaroo` object and the contents of the pouch.\n",
    "\n",
    "Test your code by creating two `Kangaroo` objects, assigning them to variables named `kanga` and `roo`, and then adding `roo` to the contents of `kanga`’s pouch.\n",
    "\n",
    "Download http://greenteapress.com/thinkpython2/code/BadKangaroo.py. It contains a solution to the previous problem with one big, nasty bug. Find and fix the bug.\n",
    "\n",
    "If you get stuck, you can download http://greenteapress.com/thinkpython2/code/GoodKangaroo.py, which explains the problem and demonstrates a solution. "
   ]
  },
  {
   "cell_type": "code",
   "execution_count": 37,
   "metadata": {
    "collapsed": false,
    "deletable": true,
    "editable": true,
    "solution": "Exercise 17.7"
   },
   "outputs": [
    {
     "name": "stdout",
     "output_type": "stream",
     "text": [
      "kanga has :\n",
      "     'wrench'\n",
      "     'rope'\n",
      "roo has :\n",
      "     'lead pipe'\n",
      "     'candlestick'\n"
     ]
    }
   ],
   "source": [
    "\"\"\"class Kangaroo:\n",
    "    pouch_contents =[]\n",
    "    def __init__(self,pouch_contents=[]):\n",
    "        self.pouch_contents = pouch_contents\n",
    "    def __put_in_pouch__(self,other):\n",
    "        object_type = self.object_type + other.object_type\n",
    "    def __str__(self):\n",
    "        return '%.2d:\"\"\"\n",
    "        \n",
    "class Kangaroo:\n",
    "    \"\"\"A Kangaroo is a marsupial.\"\"\"\n",
    "    \n",
    "    def __init__(self, name, contents=None):\n",
    "        self.name = name\n",
    "        if  contents == None:\n",
    "            contents = []\n",
    "        self.pouch_contents = contents\n",
    "    def __str__(self):\n",
    "        the_roo = [self.name+ \" has :\"]\n",
    "        for i in self.pouch_contents:\n",
    "            s ='     ' +object.__str__(i)\n",
    "            the_roo.append(s)\n",
    "        return '\\n'.join(the_roo)\n",
    "    def put_in_pouch(self,other):\n",
    "        self.pouch_contents.append(other)\n",
    "\n",
    "kanga = Kangaroo('kanga')\n",
    "roo = Kangaroo('roo')\n",
    "kanga.put_in_pouch('wrench')\n",
    "kanga.put_in_pouch('rope')\n",
    "roo.put_in_pouch('lead pipe')\n",
    "roo.put_in_pouch('candlestick')\n",
    "\n",
    "print(kanga)\n",
    "print(roo)"
   ]
  },
  {
   "cell_type": "markdown",
   "metadata": {
    "deletable": true,
    "editable": true,
    "poll_response": true,
    "solution": "Time spent"
   },
   "source": [
    " "
   ]
  },
  {
   "cell_type": "markdown",
   "metadata": {
    "deletable": true,
    "editable": true,
    "is_question": true,
    "problem": "Feedback"
   },
   "source": [
    "## Reading Journal feedback\n",
    "\n",
    "[Please complete this short survey](https://docs.google.com/forms/d/e/1FAIpQLScQekhUrf6YYjpfQiAAbavLIA-IJklv_PX1BWbGgxj7JPolmw/viewform?c=0&w=1)\n",
    "\n",
    "If you have any comments on this Reading Journal, feel free to leave them in the survey linked above. This could include suggestions to improve the exercises, topics you'd like to see covered in class next time, or other feedback.\n",
    "\n",
    "If you have Python questions or run into problems while completing the reading, you should post them to Piazza instead so you can get a quick response before your journal is submitted."
   ]
  },
  {
   "cell_type": "markdown",
   "metadata": {
    "deletable": true,
    "editable": true,
    "feedback_response": true,
    "solution": "Feedback"
   },
   "source": [
    " "
   ]
  }
 ],
 "metadata": {
  "anaconda-cloud": {},
  "kernelspec": {
   "display_name": "Python 3",
   "language": "python",
   "name": "python3"
  },
  "language_info": {
   "codemirror_mode": {
    "name": "ipython",
    "version": 3
   },
   "file_extension": ".py",
   "mimetype": "text/x-python",
   "name": "python",
   "nbconvert_exporter": "python",
   "pygments_lexer": "ipython3",
   "version": "3.4.3"
  }
 },
 "nbformat": 4,
 "nbformat_minor": 0
}
